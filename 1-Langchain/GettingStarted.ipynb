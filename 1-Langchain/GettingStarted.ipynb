{
 "cells": [
  {
   "cell_type": "markdown",
   "id": "e72876e3",
   "metadata": {},
   "source": [
    "# Getting Started with LangChain and Open AI\n",
    "\n",
    "In this quickstart we'll see how to :\n",
    "\n",
    "* Get setup with LangChain , LangSmith and LangServe\n",
    "* Use the most basic and common components of LangChain\n",
    "* Build a simple appliation with LangChain\n",
    "* Trace your application with LangSmith\n",
    "* Serve application with LangServe "
   ]
  }
 ],
 "metadata": {
  "kernelspec": {
   "display_name": "Python 3",
   "language": "python",
   "name": "python3"
  },
  "language_info": {
   "codemirror_mode": {
    "name": "ipython",
    "version": 3
   },
   "file_extension": ".py",
   "mimetype": "text/x-python",
   "name": "python",
   "nbconvert_exporter": "python",
   "pygments_lexer": "ipython3",
   "version": "3.10.0"
  }
 },
 "nbformat": 4,
 "nbformat_minor": 5
}
