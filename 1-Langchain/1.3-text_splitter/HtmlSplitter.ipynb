{
 "cells": [
  {
   "cell_type": "markdown",
   "id": "0e59dc60",
   "metadata": {},
   "source": [
    "# Split Html Header"
   ]
  },
  {
   "cell_type": "code",
   "execution_count": 4,
   "id": "11797039",
   "metadata": {},
   "outputs": [
    {
     "data": {
      "text/plain": [
       "[Document(metadata={'Header 1': 'Welcome to LangChain!'}, page_content='Welcome to LangChain!'),\n",
       " Document(metadata={'Header 1': 'Welcome to LangChain!'}, page_content='This is a sample paragraph for testing HTML splitting.'),\n",
       " Document(metadata={'Header 1': 'Welcome to LangChain!', 'Header 2': 'Section 1'}, page_content='Section 1'),\n",
       " Document(metadata={'Header 1': 'Welcome to LangChain!', 'Header 2': 'Section 1'}, page_content='Details about section 1.'),\n",
       " Document(metadata={'Header 1': 'Welcome to LangChain!', 'Header 2': 'Section 2'}, page_content='Section 2'),\n",
       " Document(metadata={'Header 1': 'Welcome to LangChain!', 'Header 2': 'Section 2'}, page_content='Details about section 2.'),\n",
       " Document(metadata={'Header 1': 'Welcome to LangChain!', 'Header 2': 'Section 2', 'Header 3': 'Subsection 2.1'}, page_content='Subsection 2.1')]"
      ]
     },
     "execution_count": 4,
     "metadata": {},
     "output_type": "execute_result"
    }
   ],
   "source": [
    "from langchain_text_splitters import HTMLHeaderTextSplitter\n",
    "\n",
    "html_string = \"\"\"\n",
    "<!DOCTYPE html>\n",
    "<html>\n",
    "<head>\n",
    "    <title>Sample HTML Page</title>\n",
    "</head>\n",
    "<body>\n",
    "    <h1>Welcome to LangChain!</h1>\n",
    "    <p>This is a sample paragraph for testing HTML splitting.</p>\n",
    "    <h2>Section 1</h2>\n",
    "    <p>Details about section 1.</p>\n",
    "    <h2>Section 2</h2>\n",
    "    <p>Details about section 2.</p>\n",
    "    <h3>Subsection 2.1</h3>\n",
    "</body>\n",
    "</html>\n",
    "\"\"\"\n",
    "\n",
    "header_to_split_on = [\n",
    "(\"h1\",\"Header 1\") ,\n",
    "(\"h2\",\"Header 2\"),\n",
    "(\"h3\",\"Header 3\")\n",
    "]\n",
    "\n",
    "html_splitter = HTMLHeaderTextSplitter(\n",
    "    headers_to_split_on=header_to_split_on)\n",
    "\n",
    "html_header_splits = html_splitter.split_text(html_string)    \n",
    "html_header_splits"
   ]
  },
  {
   "cell_type": "code",
   "execution_count": 6,
   "id": "180bf5a7",
   "metadata": {},
   "outputs": [
    {
     "data": {
      "text/plain": [
       "[Document(metadata={}, page_content='Aller au contenu principal  \\nHEADER //HEADER PANEL THIRD //PANEL THIRD PANEL forth //PANEL forth FOOTER //FOOTER'),\n",
       " Document(metadata={'Header 2': 'Formulaire de recherche'}, page_content='Formulaire de recherche'),\n",
       " Document(metadata={'Header 2': 'Formulaire de recherche'}, page_content='Rechercher'),\n",
       " Document(metadata={'Header 2': 'Actualités'}, page_content='Actualités'),\n",
       " Document(metadata={}, page_content=\"Journée Scientifique du LAMA  \\nThe International Fintech and Digital Trust Congress 2025  \\nMaster Class For Teachers  \\nFaculté des Sciences de Rabat  \\nPrécédent  \\nPause  \\nSuivant  \\n1818  \\n1525  \\n1412  \\n1288  \\n1177  \\n84  \\nHome  \\nMenu  \\nAccueil  \\nPresentation  \\nDoyen  \\nProjet de développement  \\nHistorique  \\nOrganisation Générale  \\nFSR en chiffres  \\nReprésentants de la Faculté  \\nFormations  \\nLMD:mode d'emploi  \\nFormation licence  \\nFormation master  \\nFormation doctorat  \\nFormation Continue  \\nRecherche  \\nEcole doctorale  \\nValorisation de la recherche  \\nStructures de recherche  \\nDomaines de recherche  \\nPlateformes techniques  \\nEspace Enseignants  \\nLivres et publications  \\nEspace Etudiants  \\nCooperation  \\nCooperation nationale  \\nCooperation internationale  \\nCours en ligne  \\nContact  \\nMAIN CONTENT //MAIN CONTENT\"),\n",
       " Document(metadata={'Header 1': 'Services'}, page_content='Services'),\n",
       " Document(metadata={'Header 1': 'Services'}, page_content=\"I. Inscription et emprunt  \\n1. Inscription  \\nTous les étudiants nouvellement inscrits à la première année universitaire bénéficient des services de la bibliothèque tout au long de leur cycle de formation de licence pour une durée de trois années.  \\nLes étudiants inscrits au cycle de Master ou au Doctorat au niveau de l’établissement doivent se présenter à la bibliothèque pour effectuer leur inscription annuellement.  \\nLes étudiants issus d’autres établissements peuvent s’inscrire au niveau de l’établissement pour une période d’une année renouvelable. Les pièces à fournir sont :  \\n2 photos  \\nCopie de la carte d’identité nationale (ou de la carte de séjour pour les étrangers)  \\n1 attestation d’inscription dans l’établissement d’appartenance  \\n1 attestation de travail (pour les employés)  \\n2. L’emprunt des livres  \\nLes usagers de la bibliothèque de la FSR\\xa0ont le droit d'emprunter des documents selon le règlement suivant:  \\na. Cas des étudiants inscrits dans le cycle de la licence fondamentale  \\nPrésenter la carte de l’étudiant.  \\nL’étudiant peut emprunter 2 livres pour une période de 7 jours.  \\nIl est possible de demander un prolongement de la durée de l’emprunt de 2 jours : renouvelable une seule fois.  \\nb. Cas des étudiants inscrits dans le cycle de master et de doctorat  \\nPrésenter la carte de l’étudiant.  \\nL’étudiant peut emprunter 2 livres pour une période de 14 jours.  \\nIl est possible de demander un prolongement de la durée de l’emprunt de 2 jours : renouvelable une seule fois.  \\nc. A savoir  \\nLes ouvrages disponibles en 1 ou 2 exemplaires uniquement sont exclus du prêt.  \\nManipuler les documents avec soin.  \\nIl est interdit de noter, de marquer ou de souligner dans les documents consultés.  \\nTout document perdu ou détérioré devra être remplacé par l emprunteur.  \\n’  \\nIl faut signaler au service de la bibliothèque, au moment du prêt, toute dégradation constatée sur les documents consultés ou empruntés.  \\nEn cas de perte :  \\nUn retrait définitif de la carte de l’étudiant  \\nUn PV\\xa0est établi et archivé dans le dossier administratif de l’étudiant.  \\nII. Organisation d’une manifestation scientifique ou socio-culturelle  \\nL’établissement peut mettre à la disposition des organisateurs d’une manifestation scientifique ou socioculturelle (colloques, congrès, séminaires, forum, conférence …etc.) plusieurs espaces. Les organisateurs peuvent avoir le statut d’un(e) :  \\nLaboratoire ou équipe de recherche  \\nEnseignant-chercheur  \\nEtudiant(e)  \\nAssociation  \\nOrganisme externe  \\nLes intéressés peuvent adresser une demande (ci-dessous) qui sera soumise au chef de l’établissement pour approbation.  \\nDemande d organisation d un événement : ( )  \\n’  \\n’  \\nCliquez ici pour télécharger  \\nLa demande doit être envoyée à l adresse email :  \\n’  \\nsdic@fsr.ac.ma  \\nAprès traitement de la demande, les intéressés seront contactés par email.  \\nLes différents supports relatifs à la manifestation doivent être déposés au service de la communication au plus tard 3 semaines avant la date prévue de la manifestation :  \\nNote de présentation  \\nAffiche  \\nProgramme  \\nDépliants  \\nAutres …  \\nIII. Réservation d’un espace de travail collaboratif et/ou d’un ordinateur  \\nLa bibliothèque de l’établissement met à la disposition des usagers, sous réservation, des espaces permettant l’utilisation d’un\\xa0:  \\nOrdinateur, réservation : (Veuillez contacter le service de la bibliotheque)  \\nBOX de travail collaboratif, réservation : (Veuillez contacter le service de la bibliotheque)  \\n:  \\nNB  \\nToutes les réservations se font au avant le créneau demandé.  \\nplus tard 24 heures  \\nIV. Dépôt de projets de fin d’études, de mémoires et de thèses  \\nN.B :Toute réclamation au sujet de la correction des diplômes ne sera pas acceptée après l'édition et la signature des diplômes, veuillez vérifier la conformité de vos données personnelles sur votre état civil (etu.um5.ac.ma).  \\nLa bibliothèque répertorie les thèses et les mémoires soutenus à la Faculté en formats papier et électronique.  \\nAprès la soutenance, l’étudiant doit déposer son PFE, mémoire ou thèse au niveau de la bibliothèque. Ce dépôt conditionne l’octroi de l'attestation de réussite. La procédure de dépôt est la suivante :  \\n1. Dépôt\\xa0des projets de fin d’études (PFE) et de mémoire de Master  \\n1.1.\\xa0 Renseigner le formulaire fourni par la bibliothéque puis joindre : (en intranet seulement)  \\nFormulaire  \\na.La version électronique du mémoire en format\\xa0\\xa0PDF  \\nb.L'état civil de l’étudiant\\xa0à partir de l espace numérique\\xa0«etu.um5.ac.ma»  \\n’  \\n1.2. L’autorisation originale de dépôt final\\xa0 du mémoire ( ) datée et signée par l’encadrant et par vice du coordinateur du module.  \\nCliquez ici pour télécharger  \\n1.3. Copie en format papier de la page de garde du mémoire.  \\n2. Dépôt\\xa0d’une thèse de doctorat  \\n2.1. Renseigner le formulaire fourni par la bibliothéque, puis joindre : (en intranet seulement)  \\nFormulaire  \\na. La version électronique du mémoire en format\\xa0\\xa0PDF  \\nb. L autorisation originale de diffusion ( ) datée et signée par l auteur.  \\n’  \\nCliquez ici pour télécharger  \\n’  \\n2.2. Un exemplaire en format papier de la thèse visé par le directeur du CEDOC  \\n2.3. L’autorisation originale de tirage de la thèse datée et signée par le président de jury et l’encadrant.  \\n2.4. Copie en format papier de la page de garde de la thèse.\"),\n",
       " Document(metadata={'Header 1': 'Services', 'Header 2': 'Nouvelles informations'}, page_content='Nouvelles informations'),\n",
       " Document(metadata={'Header 1': 'Services', 'Header 2': 'Nouvelles informations'}, page_content=\"Réunion de travail  \\nRéunion entre le Doyen de la Faculté des Sciences de Rabat et le Président de l’Université Virtuelle de Côte d’Ivoire, accompagnés de leurs équipes, autour du développement du secteur numérique  \\nCette rencontre a été l’occasion d’échanger sur les opportunités de collaboration dans le domaine du digital, avec un accent particulier sur le renforcement des capacités, l’innovation technopédagogique et la coopération universitaire au service de la transformation numérique de l’enseignement supérieur.  \\nStation de dessalement des eaux saumâtres de Ain El Atti  \\nRéception de la station de dessalement des eaux saumâtres de Ain El Atti, province d’Errachidia  \\nCette mission s’inscrit dans le cadre du projet PPR2, piloté par la Faculté des Sciences de Rabat (FSR), intitulé : « Optimisation de la gestion des ressources en eau dans la zone de Ain El Atti, au sud d’Errachidia, et exploitation de l’énergie solaire pour la déminéralisation des eaux souterraines saumâtres ».  \\nCe projet ambitieux vise à améliorer la qualité de vie des habitants de la région R’teb–Aoufous, en leur offrant un accès durable à une eau de qualité, tout en valorisant les ressources naturelles locales.  \\nPorté par une équipe pluridisciplinaire engagée, ce projet à fort impact environnemental et socio-économique incarne la synergie entre expertise scientifique, innovation technologique et développement territorial.  \\nCette réalisation confirme l’importance de la recherche scientifique appliquée au service du développement durable, notamment dans les zones confrontées au stress hydrique.  \\nUn grand bravo à toute l’équipe pour son engagement, son expertise et sa mobilisation exemplaire sur le terrain.  \\nTrophée Redal de l’Innovation – GreenUp IA Challenge  \\nLe lundi 30 juin 2025, la Faculté des Sciences de Rabat a accueilli la cérémonie de clôture du Trophée Redal de l’Innovation – GreenUp IA Challenge, en présence de M. Mohamed El Ghachi, président de l’Université Mohammed V, et de M. Mohammed Regragui, doyen par intérim de la faculté. Cette journée a rassemblé une communauté engagée autour de valeurs fortes : l’environnement, l’innovation et la jeunesse, au cœur de la Faculté des Sciences de l’Université Mohammed V.  \\nUn panel riche et inspirant a permis d’explorer les multiples opportunités qu’offre l’intelligence artificielle pour accompagner et accélérer la transition écologique. Les échanges ont mis en lumière le rôle stratégique de la recherche et de la technologie au service d’un avenir durable. L’événement a été marqué par la signature d’un partenariat entre Redal et la Faculté des Sciences, renforçant les synergies entre le monde académique et le secteur professionnel pour un impact concret sur le terrain. La journée s’est conclue par la remise des prix aux lauréats du Hackathon, récompensés pour leurs idées innovantes et à fort potentiel d’impact, dans une ambiance enthousiaste et tournée vers l’avenir.  \\nAvis de concours  \\nLa Faculté des Sciences de Rabat organise un concours de recrutement d'\\xa0Administrateurs et Techniciens\\xa0en Informatique.  \\nAvis de concours MC  \\nLa Faculté des Sciences de Rabat organise un concours de recrutement de maîtres de conférences, session du 15 juillet 2025.\"),\n",
       " Document(metadata={'Header 1': 'Services', 'Header 2': 'Départements'}, page_content='Départements'),\n",
       " Document(metadata={'Header 1': 'Services', 'Header 2': 'Liens utiles'}, page_content='Liens utiles'),\n",
       " Document(metadata={'Header 1': 'Services', 'Header 2': 'Liens utiles'}, page_content='Université Med V de Rabat  \\nMinistère E.S.R.S.F.C  \\nCNRST  \\nLa Fondation Mohammed VI  \\nM.G.E.N'),\n",
       " Document(metadata={'Header 1': 'Services', 'Header 2': 'Les Activités Para-Universitaires'}, page_content='Les Activités Para-Universitaires'),\n",
       " Document(metadata={'Header 1': 'Services', 'Header 2': 'Les Activités Para-Universitaires'}, page_content='Planétarium FSR DOME  \\nClubs de la FSR'),\n",
       " Document(metadata={'Header 1': 'Services', 'Header 2': 'Réseaux sociaux'}, page_content='Réseaux sociaux'),\n",
       " Document(metadata={'Header 1': 'Services', 'Header 2': 'Réseaux sociaux', 'Header 4': \"Retrouvez toute l'actualité de la FSR\"}, page_content=\"Retrouvez toute l'actualité de la FSR\"),\n",
       " Document(metadata={'Header 1': 'Services', 'Header 2': 'Réseaux sociaux', 'Header 4': \"Retrouvez toute l'actualité de la FSR\"}, page_content='Suivez-nous sur les réseaux sociaux'),\n",
       " Document(metadata={'Header 1': 'Services', 'Header 2': 'Suivez-nous sur'}, page_content='Suivez-nous sur'),\n",
       " Document(metadata={'Header 1': 'Services', 'Header 2': 'CONTACTEZ-NOUS'}, page_content='CONTACTEZ-NOUS'),\n",
       " Document(metadata={'Header 1': 'Services', 'Header 2': 'CONTACTEZ-NOUS', 'Header 4': 'Faculté des Sciences'}, page_content='Faculté des Sciences'),\n",
       " Document(metadata={}, page_content='4 Avenue Ibn Battouta B.P. 1014 RP, Rabat  \\nTel : + 212 (0) 5 37 77 18 34/35/38 Fax : + 212 (0) 5 37 77 42 61  \\nEmail:  \\ndecanat@fsr.ac.ma  \\nBREADCRUMB //BREADCRUMB'),\n",
       " Document(metadata={'Header 2': 'Vous êtes ici'}, page_content='Vous êtes ici'),\n",
       " Document(metadata={}, page_content='Accueil  \\nBack to Top  \\n© Copyright 2024 Faculté des Sciences Rabat - Tous les droits réservés  \\nDéclaration de confidentialité  \\nAccessibilité  \\nPlan du site  \\nEducation - This is a contributing Drupal Theme Design by .  \\nWeebPal  \\n<!--//--><![CDATA[//><!--\\nwindow.eu_cookie_compliance_cookie_name = \"\";\\n//--><!]]>')]"
      ]
     },
     "execution_count": 6,
     "metadata": {},
     "output_type": "execute_result"
    }
   ],
   "source": [
    "url =\"http://www.fsr.ac.ma/content/services\"\n",
    "hedaers_to_split_on = [\n",
    "    (\"h1\",\"Header 1\"),\n",
    "     (\"h2\",\"Header 2\"),\n",
    "     (\"h3\",\"Header 3\"),\n",
    "     (\"h4\",\"Header 4\")\n",
    "]    \n",
    "\n",
    "html_splitter = HTMLHeaderTextSplitter(\n",
    "    headers_to_split_on=hedaers_to_split_on) \n",
    "\n",
    "html_header_splits = html_splitter.split_text_from_url(url)\n",
    "html_header_splits"
   ]
  }
 ],
 "metadata": {
  "kernelspec": {
   "display_name": "Python 3",
   "language": "python",
   "name": "python3"
  },
  "language_info": {
   "codemirror_mode": {
    "name": "ipython",
    "version": 3
   },
   "file_extension": ".py",
   "mimetype": "text/x-python",
   "name": "python",
   "nbconvert_exporter": "python",
   "pygments_lexer": "ipython3",
   "version": "3.10.0"
  }
 },
 "nbformat": 4,
 "nbformat_minor": 5
}
